{
 "cells": [
  {
   "cell_type": "code",
   "execution_count": 28,
   "id": "9c5751ec",
   "metadata": {},
   "outputs": [
    {
     "name": "stdout",
     "output_type": "stream",
     "text": [
      "First variable is  23\n",
      "Second variable is  12\n"
     ]
    }
   ],
   "source": [
    "a=int(input(\"Enter first variable\"))\n",
    "b=int(input(\"Enter second variable\"))\n",
    "a=a^b\n",
    "b=a^b\n",
    "a=a^b\n",
    "print(\"First variable is \",a)\n",
    "print(\"Second variable is \",b)"
   ]
  },
  {
   "cell_type": "code",
   "execution_count": null,
   "id": "bac2d321",
   "metadata": {},
   "outputs": [
    {
     "name": "stdout",
     "output_type": "stream",
     "text": [
      "olleh\n"
     ]
    }
   ],
   "source": [
    "s = input(\"Enter the string\")          \n",
    "rev = ''.join(reversed(s))           \n",
    "print(rev)                             \n"
   ]
  },
  {
   "cell_type": "code",
   "execution_count": null,
   "id": "33891f2e",
   "metadata": {},
   "outputs": [
    {
     "name": "stdout",
     "output_type": "stream",
     "text": [
      "43 is not an amstrong\n"
     ]
    }
   ],
   "source": [
    "n=int(input(\"Enter number\"))\n",
    "temp=n\n",
    "res=0\n",
    "while n>0:\n",
    "    rem=n%10\n",
    "    res+=rem**3\n",
    "    n=n//10\n",
    "if (temp==res):\n",
    "    print(f\"{temp } is an amstrong \")\n",
    "else:\n",
    "    print(f\"{temp} is not an amstrong\")\n",
    "    "
   ]
  },
  {
   "cell_type": "code",
   "execution_count": null,
   "id": "2784b3e4",
   "metadata": {},
   "outputs": [
    {
     "name": "stdout",
     "output_type": "stream",
     "text": [
      "1*15=15\n",
      "2*15=30\n",
      "3*15=45\n",
      "4*15=60\n",
      "5*15=75\n",
      "6*15=90\n",
      "7*15=105\n",
      "8*15=120\n",
      "9*15=135\n",
      "10*15=150\n"
     ]
    }
   ],
   "source": [
    "n=int(input(\"Enter the number\"))\n",
    "print(f\"Multipilcation table of {n}\")\n",
    "for i in range(1,11):\n",
    "    print(f\"{i}*{n}={i*n}\")\n"
   ]
  },
  {
   "cell_type": "code",
   "execution_count": null,
   "id": "3c274c4b",
   "metadata": {},
   "outputs": [
    {
     "name": "stdout",
     "output_type": "stream",
     "text": [
      "a leap year\n"
     ]
    }
   ],
   "source": [
    "year=int(input(\"Enter year\"))\n",
    "if year%4==0:\n",
    "    if year %100==0:\n",
    "\n",
    "        if year%400==0:\n",
    "            print(\"its a leap year\")\n",
    "        else:\n",
    "            print(\"not a leap year\")\n",
    "    else:\n",
    "        print(\"its aleap year\")\n",
    "else:\n",
    "    print(\"not a leap year\")\n"
   ]
  },
  {
   "cell_type": "code",
   "execution_count": 16,
   "id": "f4cc2608",
   "metadata": {},
   "outputs": [
    {
     "name": "stdout",
     "output_type": "stream",
     "text": [
      "vowel count is 2\n",
      "consonants count is 6\n"
     ]
    }
   ],
   "source": [
    "s=input(\"Enter string\")\n",
    "s=s.lower()\n",
    "v=\"aeiou\"\n",
    "vcount=0\n",
    "ccount=0\n",
    "for ch in s:\n",
    "    if ch.isalpha:\n",
    "\n",
    "        if ch in v:\n",
    "            vcount+=1\n",
    "        else:\n",
    "            ccount+=1\n",
    "print(f\"vowel count is {vcount}\")\n",
    "print(f\"consonants count is {ccount}\")"
   ]
  },
  {
   "cell_type": "code",
   "execution_count": 24,
   "id": "e329bcd3",
   "metadata": {},
   "outputs": [
    {
     "name": "stdout",
     "output_type": "stream",
     "text": [
      "239 is largest number\n"
     ]
    }
   ],
   "source": [
    "numbers=[100,239,23,134,231]\n",
    "max=0\n",
    "for n in numbers:\n",
    "    if n>max:\n",
    "        max=n\n",
    "print(f\"{max} is largest number\")\n"
   ]
  },
  {
   "cell_type": "code",
   "execution_count": 25,
   "id": "517f9f02",
   "metadata": {},
   "outputs": [
    {
     "name": "stdout",
     "output_type": "stream",
     "text": [
      "dad is a palindrone\n"
     ]
    }
   ],
   "source": [
    "s=input(\"Enter pateient id\")\n",
    "rev=''.join(reversed(s))\n",
    "if s==rev:\n",
    "    print(f\"{s} is a palindrone\")\n",
    "else:\n",
    "    print(f\"{s} is not a palindrone\")\n"
   ]
  },
  {
   "cell_type": "code",
   "execution_count": 27,
   "id": "6b6a4127",
   "metadata": {},
   "outputs": [
    {
     "name": "stdout",
     "output_type": "stream",
     "text": [
      "factorial of 4 is 24\n"
     ]
    }
   ],
   "source": [
    "\n",
    "def fact(n):\n",
    "    if n==1 or n==0:\n",
    "        return 1\n",
    "    return n*fact(n-1)\n",
    "n=int(input(\"Enter a number\"))\n",
    "f=fact(n)\n",
    "print(f\"factorial of {n} is {f}\")"
   ]
  },
  {
   "cell_type": "code",
   "execution_count": null,
   "id": "f36a1fc8",
   "metadata": {},
   "outputs": [],
   "source": [
    "print(\"A company rewards for numbers divisble by 3 and 5 the numbers betewen 1 nad 100 \")\n",
    "for i in range (1,101):\n",
    "    if i%3==0 and i%5==0:\n",
    "        print(i)\n",
    "    "
   ]
  }
 ],
 "metadata": {
  "kernelspec": {
   "display_name": "Python 3",
   "language": "python",
   "name": "python3"
  },
  "language_info": {
   "codemirror_mode": {
    "name": "ipython",
    "version": 3
   },
   "file_extension": ".py",
   "mimetype": "text/x-python",
   "name": "python",
   "nbconvert_exporter": "python",
   "pygments_lexer": "ipython3",
   "version": "3.11.13"
  }
 },
 "nbformat": 4,
 "nbformat_minor": 5
}
