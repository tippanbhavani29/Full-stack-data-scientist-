{
 "cells": [
  {
   "cell_type": "code",
   "execution_count": 28,
   "id": "9c5751ec",
   "metadata": {},
   "outputs": [
    {
     "name": "stdout",
     "output_type": "stream",
     "text": [
      "First variable is  23\n",
      "Second variable is  12\n"
     ]
    }
   ],
   "source": [
    "a=int(input(\"Enter first variable\"))\n",
    "b=int(input(\"Enter second variable\"))\n",
    "a=a^b\n",
    "b=a^b\n",
    "a=a^b\n",
    "print(\"First variable is \",a)\n",
    "print(\"Second variable is \",b)"
   ]
  },
  {
   "cell_type": "code",
   "execution_count": null,
   "id": "bac2d321",
   "metadata": {},
   "outputs": [
    {
     "name": "stdout",
     "output_type": "stream",
     "text": [
      "olleh\n"
     ]
    }
   ],
   "source": [
    "s = input(\"Enter the string\")          \n",
    "rev = ''.join(reversed(s))           \n",
    "print(rev)                             \n"
   ]
  },
  {
   "cell_type": "code",
   "execution_count": null,
   "id": "33891f2e",
   "metadata": {},
   "outputs": [
    {
     "name": "stdout",
     "output_type": "stream",
     "text": [
      "43 is not an amstrong\n"
     ]
    }
   ],
   "source": [
    "n=int(input(\"Enter number\"))\n",
    "temp=n\n",
    "res=0\n",
    "while n>0:\n",
    "    rem=n%10\n",
    "    res+=rem**3\n",
    "    n=n//10\n",
    "if (temp==res):\n",
    "    print(f\"{temp } is an amstrong \")\n",
    "else:\n",
    "    print(f\"{temp} is not an amstrong\")\n",
    "    "
   ]
  },
  {
   "cell_type": "code",
   "execution_count": null,
   "id": "2784b3e4",
   "metadata": {},
   "outputs": [
    {
     "name": "stdout",
     "output_type": "stream",
     "text": [
      "1*15=15\n",
      "2*15=30\n",
      "3*15=45\n",
      "4*15=60\n",
      "5*15=75\n",
      "6*15=90\n",
      "7*15=105\n",
      "8*15=120\n",
      "9*15=135\n",
      "10*15=150\n"
     ]
    }
   ],
   "source": [
    "n=int(input(\"Enter the number\"))\n",
    "print(f\"Multipilcation table of {n}\")\n",
    "for i in range(1,11):\n",
    "    print(f\"{i}*{n}={i*n}\")\n"
   ]
  },
  {
   "cell_type": "code",
   "execution_count": null,
   "id": "3c274c4b",
   "metadata": {},
   "outputs": [
    {
     "name": "stdout",
     "output_type": "stream",
     "text": [
      "a leap year\n"
     ]
    }
   ],
   "source": [
    "year=int(input(\"Enter year\"))\n",
    "if year%4==0:\n",
    "    if year %100==0:\n",
    "\n",
    "        if year%400==0:\n",
    "            print(\"its a leap year\")\n",
    "        else:\n",
    "            print(\"not a leap year\")\n",
    "    else:\n",
    "        print(\"its aleap year\")\n",
    "else:\n",
    "    print(\"not a leap year\")\n"
   ]
  },
  {
   "cell_type": "code",
   "execution_count": 16,
   "id": "f4cc2608",
   "metadata": {},
   "outputs": [
    {
     "name": "stdout",
     "output_type": "stream",
     "text": [
      "vowel count is 2\n",
      "consonants count is 6\n"
     ]
    }
   ],
   "source": [
    "s=input(\"Enter string\")\n",
    "s=s.lower()\n",
    "v=\"aeiou\"\n",
    "vcount=0\n",
    "ccount=0\n",
    "for ch in s:\n",
    "    if ch.isalpha:\n",
    "\n",
    "        if ch in v:\n",
    "            vcount+=1\n",
    "        else:\n",
    "            ccount+=1\n",
    "print(f\"vowel count is {vcount}\")\n",
    "print(f\"consonants count is {ccount}\")"
   ]
  },
  {
   "cell_type": "code",
   "execution_count": 24,
   "id": "e329bcd3",
   "metadata": {},
   "outputs": [
    {
     "name": "stdout",
     "output_type": "stream",
     "text": [
      "239 is largest number\n"
     ]
    }
   ],
   "source": [
    "numbers=[100,239,23,134,231]\n",
    "max=0\n",
    "for n in numbers:\n",
    "    if n>max:\n",
    "        max=n\n",
    "print(f\"{max} is largest number\")\n"
   ]
  },
  {
   "cell_type": "code",
   "execution_count": 25,
   "id": "517f9f02",
   "metadata": {},
   "outputs": [
    {
     "name": "stdout",
     "output_type": "stream",
     "text": [
      "dad is a palindrone\n"
     ]
    }
   ],
   "source": [
    "s=input(\"Enter pateient id\")\n",
    "rev=''.join(reversed(s))\n",
    "if s==rev:\n",
    "    print(f\"{s} is a palindrone\")\n",
    "else:\n",
    "    print(f\"{s} is not a palindrone\")\n"
   ]
  },
  {
   "cell_type": "code",
   "execution_count": 27,
   "id": "6b6a4127",
   "metadata": {},
   "outputs": [
    {
     "name": "stdout",
     "output_type": "stream",
     "text": [
      "factorial of 4 is 24\n"
     ]
    }
   ],
   "source": [
    "\n",
    "def fact(n):\n",
    "    if n==1 or n==0:\n",
    "        return 1\n",
    "    return n*fact(n-1)\n",
    "n=int(input(\"Enter a number\"))\n",
    "f=fact(n)\n",
    "print(f\"factorial of {n} is {f}\")"
   ]
  },
  {
   "cell_type": "code",
   "execution_count": null,
   "id": "f36a1fc8",
   "metadata": {},
   "outputs": [],
   "source": [
    "print(\"A company rewards for numbers divisble by 3 and 5 the numbers betewen 1 nad 100 \")\n",
    "for i in range (1,101):\n",
    "    if i%3==0 and i%5==0:\n",
    "        print(i)\n",
    "    "
   ]
  },
  {
   "cell_type": "code",
   "execution_count": 30,
   "id": "dae41401",
   "metadata": {},
   "outputs": [
    {
     "name": "stdout",
     "output_type": "stream",
     "text": [
      "24 is prime False\n"
     ]
    }
   ],
   "source": [
    "# A security system checks whether the entered code is prime for extra authentication. Write a program to check if a given number is prime.\n",
    " \n",
    "def prime(n):\n",
    "    if n<=1:\n",
    "        return False\n",
    "    if n==2 :\n",
    "        return True\n",
    "    if n%2==0:\n",
    "        return False\n",
    "    for i in range(3,int(n**0.5)+1,2):\n",
    "        if n%i==0:\n",
    "            return False\n",
    "    return True\n",
    "n=int(input(\"Enter the number \"))\n",
    "print(f\"{n} is prime {prime(n)}\")"
   ]
  },
  {
   "cell_type": "code",
   "execution_count": null,
   "id": "581a513f",
   "metadata": {},
   "outputs": [
    {
     "name": "stdout",
     "output_type": "stream",
     "text": [
      "Second largest is 23\n"
     ]
    }
   ],
   "source": [
    "#In a class test, a teacher wants to know the second highest score among students. Write a program to find the second largest number in a list\n",
    "\n",
    "n=int(input(\"Enter number of students\"))\n",
    "largest=float('-inf')\n",
    "second=float('-inf')\n",
    "s=[]\n",
    "for i in range (1,n+1):\n",
    "    score =int(input(\"Enter score of student\"))\n",
    "    s.append(score)\n",
    "s.sort()\n",
    "print(f\"Second largest is {s[n-2]}\")\n"
   ]
  },
  {
   "cell_type": "code",
   "execution_count": 45,
   "id": "b07ca7b7",
   "metadata": {},
   "outputs": [
    {
     "name": "stdout",
     "output_type": "stream",
     "text": [
      "sum of even numbers from 1 to 50 is 650\n"
     ]
    }
   ],
   "source": [
    "#A fitness app counts only even-numbered steps to calculate “balanced walking.” Write a program to find the sum of even numbers from 1 to 50.\n",
    "sum=0\n",
    "for i in range (1,51):\n",
    "    if i%2==0:\n",
    "        sum+=i\n",
    "print(f\"sum of even numbers from 1 to 50 is {sum}\")"
   ]
  },
  {
   "cell_type": "code",
   "execution_count": 48,
   "id": "e1f30343",
   "metadata": {},
   "outputs": [
    {
     "name": "stdout",
     "output_type": "stream",
     "text": [
      "number of lower case letters in 5 is 0\n",
      "number of upper case letters in 5 is 0\n"
     ]
    }
   ],
   "source": [
    "#A typing speed test wants to know how many uppercase and lowercase letters a user typed. Write a program to count uppercase and lowercase characters in a string.\n",
    "\n",
    "s=input(\"Enter the  string\")\n",
    "uppercount=0\n",
    "lowercount=0\n",
    "for ch in s:\n",
    "    if ch.isalpha():\n",
    "        if ch.isupper():\n",
    "            uppercount+=1\n",
    "        elif ch.islower():\n",
    "            lowercount+=1\n",
    "print(f\"number of lower case letters in {s} is {lowercount}\")\n",
    "print(f\"number of upper case letters in {s} is {uppercount}\")\n"
   ]
  },
  {
   "cell_type": "code",
   "execution_count": 49,
   "id": "83812133",
   "metadata": {},
   "outputs": [
    {
     "name": "stdout",
     "output_type": "stream",
     "text": [
      "Fibonacci sequence:\n",
      "0 1 1 2 3 "
     ]
    }
   ],
   "source": [
    "#A financial tool simulates Fibonacci-like growth in savings. Write a program to generate the Fibonacci sequence up to n terms.\n",
    "n = int(input(\"Enter the number of terms: \"))\n",
    "\n",
    "a, b = 0, 1\n",
    "\n",
    "print(\"Fibonacci sequence:\")\n",
    "\n",
    "for i in range(n):\n",
    "    print(a, end=' ')\n",
    "    a, b = b, a + b\n"
   ]
  },
  {
   "cell_type": "code",
   "execution_count": 50,
   "id": "25e17c95",
   "metadata": {},
   "outputs": [
    {
     "name": "stdout",
     "output_type": "stream",
     "text": [
      "The words are anagrams.\n"
     ]
    }
   ],
   "source": [
    "#A word puzzle game checks if two words are anagrams (same letters but shuffled). Write a program to check if two strings are anagrams.\n",
    "str1 = input(\"Enter first word: \").replace(\" \", \"\").lower()\n",
    "str2 = input(\"Enter second word: \").replace(\" \", \"\").lower()\n",
    "if sorted(str1) == sorted(str2):\n",
    "    print(\"The words are anagrams.\")\n",
    "else:\n",
    "    print(\"The words are not anagrams.\")\n"
   ]
  },
  {
   "cell_type": "code",
   "execution_count": 51,
   "id": "a46a9916",
   "metadata": {},
   "outputs": [
    {
     "name": "stdout",
     "output_type": "stream",
     "text": [
      "12 is not a perfect number.\n"
     ]
    }
   ],
   "source": [
    "#A science experiment needs to verify whether a number is perfect (sum of divisors = number). Write a program to check if a number is a perfect number.\n",
    "\n",
    "num = int(input(\"Enter a number: \"))\n",
    "sum_of_divisors = 0\n",
    "for i in range(1, num):\n",
    "    if num % i == 0:\n",
    "        sum_of_divisors += i\n",
    "if sum_of_divisors == num:\n",
    "    print(f\"{num} is a perfect number.\")\n",
    "else:\n",
    "    print(f\"{num} is not a perfect number.\")\n"
   ]
  },
  {
   "cell_type": "code",
   "execution_count": null,
   "id": "91b8c160",
   "metadata": {},
   "outputs": [
    {
     "name": "stdout",
     "output_type": "stream",
     "text": [
      "\n",
      "Total Marks: 115\n",
      "Percentage: 23.00%\n",
      "Grade: Fail\n"
     ]
    }
   ],
   "source": [
    "#A school report system calculates percentage and assigns grades\n",
    "# Write a program that takes 5 subject marks, calculates percentage, and prints the grade.\n",
    "marks = []\n",
    "total=0\n",
    "for i in range(1, 6):\n",
    "    mark = int(input(f\"Enter marks for subject {i}: \"))  # ✅ convert to float\n",
    "    total+=mark\n",
    "percentage = total / 5\n",
    "\n",
    "if percentage >= 90:\n",
    "    grade = 'A'\n",
    "elif percentage >= 75:\n",
    "    grade = 'B'\n",
    "elif percentage >= 50:\n",
    "    grade = 'C'\n",
    "else:\n",
    "    grade = 'Fail'\n",
    "\n",
    "print(f\"\\nTotal Marks: {total}\")\n",
    "print(f\"Percentage: {percentage:.2f}%\")\n",
    "print(f\"Grade: {grade}\")\n"
   ]
  },
  {
   "cell_type": "code",
   "execution_count": 57,
   "id": "3db87d49",
   "metadata": {},
   "outputs": [
    {
     "name": "stdout",
     "output_type": "stream",
     "text": [
      "2 3 5 7 11 13 17 19 23 29 31 37 41 43 47 53 59 61 67 71 73 79 83 89 97 "
     ]
    }
   ],
   "source": [
    "#A mathematics quiz app generates all prime numbers between 1 and 100. Write a program to print all prime numbers in this range.\n",
    "\n",
    "for num in range(2, 101):  # start from 2, since 1 is not prime\n",
    "    is_prime = True\n",
    "    for i in range(2, int(num**0.5) + 1):\n",
    "        if num % i == 0:\n",
    "            is_prime = False\n",
    "            break\n",
    "    if is_prime:\n",
    "        print(num, end=' ')\n"
   ]
  },
  {
   "cell_type": "code",
   "execution_count": 58,
   "id": "74df39a2",
   "metadata": {},
   "outputs": [
    {
     "name": "stdout",
     "output_type": "stream",
     "text": [
      "Number of words: 2\n"
     ]
    }
   ],
   "source": [
    "#n online editor counts words in an article but doesn’t allow using split(). Write a program to count the number of words in a sentence.\n",
    "sentence = input(\"Enter a sentence: \")\n",
    "\n",
    "count = 0\n",
    "in_word = False   \n",
    "\n",
    "for ch in sentence:\n",
    "    if ch != ' ' and not in_word:\n",
    "        count += 1\n",
    "        in_word = True\n",
    "    elif ch == ' ':\n",
    "         \n",
    "        in_word = False\n",
    "\n",
    "print(f\"Number of words: {count}\")\n"
   ]
  },
  {
   "cell_type": "code",
   "execution_count": 59,
   "id": "f4086bfe",
   "metadata": {},
   "outputs": [
    {
     "name": "stdout",
     "output_type": "stream",
     "text": [
      "Final ticket price: 192.00\n"
     ]
    }
   ],
   "source": [
    "# #A cinema gives a 20% discount if the customer is a student and 10% discount if the customer is a senior citizen (age ≥ 60).\n",
    "# Write a program that takes ticket price, age, and student status (yes/no) as input and prints the final ticket price.\n",
    "ticket_price = float(input(\"Enter the ticket price: \"))\n",
    "age = int(input(\"Enter your age: \"))\n",
    "student_status = input(\"Are you a student? (yes/no): \").strip().lower()\n",
    "\n",
    "discount = 0\n",
    "if student_status == 'yes':\n",
    "    discount = 0.20 \n",
    "elif age >= 60:\n",
    "    discount = 0.10 \n",
    "final_price = ticket_price * (1 - discount)\n",
    "print(f\"Final ticket price: {final_price:.2f}\")\n",
    "\n"
   ]
  },
  {
   "cell_type": "code",
   "execution_count": 60,
   "id": "5423b55a",
   "metadata": {},
   "outputs": [
    {
     "name": "stdout",
     "output_type": "stream",
     "text": [
      " your  total bill 392\n"
     ]
    }
   ],
   "source": [
    "# #An e-commerce website gives free delivery if the total cart value is more than ₹500. Otherwise, a delivery charge of ₹50 is applied.\n",
    "# Write a program that takes the cart total as input and prints the final amount payable.\n",
    "cart=int(input(\"Enter total cart\"))\n",
    "if cart >500:\n",
    "    print(f\" you get free delivery  total bill {cart}\")\n",
    "else:\n",
    "    cart+=50\n",
    "    print(f\" your  total bill {cart}\")"
   ]
  },
  {
   "cell_type": "code",
   "execution_count": 61,
   "id": "13206f24",
   "metadata": {},
   "outputs": [
    {
     "name": "stdout",
     "output_type": "stream",
     "text": [
      "Grade: B\n"
     ]
    }
   ],
   "source": [
    "# \n",
    "marks = float(input(\"Enter your marks: \"))\n",
    "if marks >= 90 and marks <= 100:\n",
    "    grade = 'A'\n",
    "elif marks >= 75:\n",
    "    grade = 'B'\n",
    "elif marks >= 50:\n",
    "    grade = 'C'\n",
    "elif marks >= 0:\n",
    "    grade = 'Fail'\n",
    "else:\n",
    "    grade = 'Invalid'\n",
    "\n",
    "print(f\"Grade: {grade}\")\n"
   ]
  },
  {
   "cell_type": "code",
   "execution_count": null,
   "id": "136d0bc7",
   "metadata": {},
   "outputs": [
    {
     "name": "stdout",
     "output_type": "stream",
     "text": [
      "Tip to be added: ₹56.70\n"
     ]
    }
   ],
   "source": [
    "# Restaurant Tip Calculator\n",
    "bill = float(input(\"Enter the bill amount: \"))\n",
    "\n",
    "if bill < 500:\n",
    "    tip = bill * 0.05\n",
    "elif bill <= 1000:\n",
    "    tip = bill * 0.10\n",
    "else:\n",
    "    tip = bill * 0.15\n",
    "\n",
    "print(f\"Tip to be added: ₹{tip:.2f}\")\n"
   ]
  },
  {
   "cell_type": "code",
   "execution_count": null,
   "id": "67c9a54c",
   "metadata": {},
   "outputs": [
    {
     "name": "stdout",
     "output_type": "stream",
     "text": [
      "The cheapest option costs ₹1500\n"
     ]
    }
   ],
   "source": [
    "#  Gym Membership Plan\n",
    "months = int(input(\"Enter the membership period in months: \"))\n",
    "cost_monthly = months * 500\n",
    "six_month_blocks = months // 6\n",
    "remaining_months = months % 6\n",
    "cost_six_month = six_month_blocks * 2700 + remaining_months * 500\n",
    "twelve_month_blocks = months // 12\n",
    "remaining_months_12 = months % 12\n",
    "cost_twelve_month = twelve_month_blocks * 5000 + remaining_months_12 * 500\n",
    "cheapest = min(cost_monthly, cost_six_month, cost_twelve_month)\n",
    "print(f\"The cheapest option costs ₹{cheapest}\")\n"
   ]
  },
  {
   "cell_type": "code",
   "execution_count": 66,
   "id": "b333d774",
   "metadata": {},
   "outputs": [
    {
     "name": "stdout",
     "output_type": "stream",
     "text": [
      "Attendance: 86.96% - Eligible for exam \n"
     ]
    }
   ],
   "source": [
    "\n",
    "# A student must have at least 75% attendance to sit for the exam.\n",
    "# Write a program that takes total classes and classes attended as input and prints whether the student is eligible or not eligible.\n",
    "\n",
    "total_classes = int(input(\"Enter total number of classes: \"))\n",
    "attended_classes = int(input(\"Enter number of classes attended: \"))\n",
    "attendance_percent = (attended_classes / total_classes) * 100\n",
    "if attendance_percent >= 75:\n",
    "    print(f\"Attendance: {attendance_percent:.2f}% - Eligible for exam \")\n",
    "else:\n",
    "    print(f\"Attendance: {attendance_percent:.2f}% - Not eligible for exam \")\n"
   ]
  },
  {
   "cell_type": "code",
   "execution_count": 67,
   "id": "1d519d9e",
   "metadata": {},
   "outputs": [
    {
     "name": "stdout",
     "output_type": "stream",
     "text": [
      "Transaction successful\n"
     ]
    }
   ],
   "source": [
    "# An ATM only allows withdrawals in multiples of 100.\n",
    "# Write a program that takes the withdrawal amount and prints whether the transaction is successful or failed.\n",
    "\n",
    "amount=int(input(\"Enter the withdrawl amount\"))\n",
    "if amount%100==0:\n",
    "    print(\"Transaction successful\")\n",
    "else:\n",
    "    print(\"Transcation failed\")"
   ]
  },
  {
   "cell_type": "code",
   "execution_count": 69,
   "id": "f73c64b6",
   "metadata": {},
   "outputs": [
    {
     "name": "stdout",
     "output_type": "stream",
     "text": [
      "Nice Weather, go out!\n"
     ]
    }
   ],
   "source": [
    "#Weather suggestion based on temp\n",
    "temp=int(input(\"Enter temperature\"))\n",
    "if temp>35:\n",
    "     print(\"Too hot, stay indoors!\")\n",
    "elif temp <=35 and temp>=20:\n",
    "    print(\"Nice Weather, go out!\")\n",
    "else:\n",
    "   print(\"It's cold, wear warm clothes!\")"
   ]
  },
  {
   "cell_type": "code",
   "execution_count": 70,
   "id": "202d5539",
   "metadata": {},
   "outputs": [
    {
     "name": "stdout",
     "output_type": "stream",
     "text": [
      "The fine amount is ₹100\n"
     ]
    }
   ],
   "source": [
    "#  Library Fine\n",
    "late_days = int(input(\"Enter the number of late days: \"))\n",
    "if 1 <= late_days <= 5:\n",
    "    fine = 10\n",
    "elif 6 <= late_days <= 10:\n",
    "    fine = 50\n",
    "elif late_days > 10:\n",
    "    fine = 100\n",
    "else:\n",
    "    fine = 0  \n",
    "print(f\"The fine amount is ₹{fine}\")\n"
   ]
  },
  {
   "cell_type": "code",
   "execution_count": 71,
   "id": "1e2de73b",
   "metadata": {},
   "outputs": [
    {
     "name": "stdout",
     "output_type": "stream",
     "text": [
      "The electricity bill is ₹120\n"
     ]
    }
   ],
   "source": [
    "# Electricity Bill Calculator\n",
    "\n",
    "\n",
    "units = int(input(\"Enter the number of units consumed: \"))\n",
    "bill = 0\n",
    "if units <= 100:\n",
    "    bill = units * 5\n",
    "elif units <= 200:\n",
    "    bill = (100 * 5) + ((units - 100) * 7)\n",
    "else:\n",
    "    bill = (100 * 5) + (100 * 7) + ((units - 200) * 10)\n",
    "print(f\"The electricity bill is ₹{bill}\")\n"
   ]
  }
 ],
 "metadata": {
  "kernelspec": {
   "display_name": "Python 3",
   "language": "python",
   "name": "python3"
  },
  "language_info": {
   "codemirror_mode": {
    "name": "ipython",
    "version": 3
   },
   "file_extension": ".py",
   "mimetype": "text/x-python",
   "name": "python",
   "nbconvert_exporter": "python",
   "pygments_lexer": "ipython3",
   "version": "3.11.13"
  }
 },
 "nbformat": 4,
 "nbformat_minor": 5
}
