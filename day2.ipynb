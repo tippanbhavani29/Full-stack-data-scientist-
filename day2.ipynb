{
 "cells": [
  {
   "cell_type": "code",
   "execution_count": null,
   "id": "35eeb3f5",
   "metadata": {},
   "outputs": [
    {
     "name": "stdout",
     "output_type": "stream",
     "text": [
      "total number of words in file3\n"
     ]
    }
   ],
   "source": [
    "# Problem: Given a text file, count the total number of words\n",
    "with open('f1.txt','r') as file:\n",
    "    line=file.read()\n",
    "    w=line.split()\n",
    "    print(f\"total number of words in file is {len(w)}\")\n"
   ]
  },
  {
   "cell_type": "code",
   "execution_count": 5,
   "id": "3ec86eb2",
   "metadata": {},
   "outputs": [
    {
     "name": "stdout",
     "output_type": "stream",
     "text": [
      "It's a Strong password\n"
     ]
    }
   ],
   "source": [
    "# Write a program to check if a password is strong (at least 8 characters, contains uppercase, lowercase, digit, and special char).\n",
    "import re\n",
    "def check(password):\n",
    "    if len(password)<=8:return False\n",
    "    if not re.search(r'[A-Z]',password):return False\n",
    "    if not re.search(r'[a-z]',password):return False\n",
    "    if not re.search(r'[!@#$%^&*(),.?\":{}|<>]',password):return False\n",
    "    if not re.search(r'[\\d]',password):return False\n",
    "    return True\n",
    "s=input(\"Enter the password\")\n",
    "if check(s):\n",
    "    print(\"It's a Strong password\")\n",
    "else:\n",
    "    print(\"It's not a strong password\")"
   ]
  },
  {
   "cell_type": "markdown",
   "id": "b79411ae",
   "metadata": {},
   "source": []
  },
  {
   "cell_type": "code",
   "execution_count": 7,
   "id": "e670c6fe",
   "metadata": {},
   "outputs": [
    {
     "name": "stdout",
     "output_type": "stream",
     "text": [
      "Cant divide by zero\n"
     ]
    }
   ],
   "source": [
    "# Implement a calculator with +, -, *, / operations.\n",
    "op=input(\"Enter the operation\")\n",
    "match op:\n",
    "    case '+':\n",
    "        a=int(input(\"Enter number\"))\n",
    "        b=int(input(\"Enter number\"))\n",
    "        print(f\"Addition of numbers is{a+b}\")\n",
    "    case '-':\n",
    "         a=int(input(\"Enter number\"))\n",
    "         b=int(input(\"Enter number\"))\n",
    "         print(f\"Subtraction of numbers is{a-b}\")\n",
    "    case '*':\n",
    "         a=int(input(\"Enter number\"))\n",
    "         b=int(input(\"Enter number\"))\n",
    "         print(f\"Multiplication of numbers is{a*b}\")\n",
    "    case '/':\n",
    "          try:\n",
    "                a=int(input(\"Enter number\"))\n",
    "                b=int(input(\"Enter number\"))\n",
    "                print(f\"Division of numbers is{a/b}\")\n",
    "          except:\n",
    "               print(\"Cant divide by zero\")\n"
   ]
  },
  {
   "cell_type": "code",
   "execution_count": null,
   "id": "05366d54",
   "metadata": {},
   "outputs": [
    {
     "name": "stdout",
     "output_type": "stream",
     "text": [
      "chinnu bhavani "
     ]
    }
   ],
   "source": [
    "# 4. Problem: Given a list of student names, find duplicates.\n",
    "std=[\"bhavani\",\"chinnu\",\"bunny\",\"suchithra\",\"chinnu\",\"bhavani\"]\n",
    "seen=set()\n",
    "print(\"Duplicate student names are:\")\n",
    "for s in std:\n",
    "    if s in seen:\n",
    "        print(s,end=\" \")\n",
    "    else:\n",
    "     seen.add(s)\n"
   ]
  },
  {
   "cell_type": "code",
   "execution_count": 12,
   "id": "5f7a9d57",
   "metadata": {},
   "outputs": [
    {
     "name": "stdout",
     "output_type": "stream",
     "text": [
      "Temperature in fahrenheit is 77\n"
     ]
    }
   ],
   "source": [
    "# Problem: Convert between Celsius and Fahrenheit.\n",
    "c=int(input(\"Enter temperature in celsius\"))\n",
    "f=int(9/5*c+32)\n",
    "print(f\"Temperature in fahrenheit is {f}\")"
   ]
  },
  {
   "cell_type": "code",
   "execution_count": 13,
   "id": "aef428dc",
   "metadata": {},
   "outputs": [
    {
     "name": "stdout",
     "output_type": "stream",
     "text": [
      "Largest number from list is 1324\n"
     ]
    }
   ],
   "source": [
    "# 6. Problem: Find the largest number from a list of integers.\n",
    "li=[92,32,432,32,1324,432,1221]\n",
    "print(f\"Largest number from list is {max(li)}\")"
   ]
  },
  {
   "cell_type": "code",
   "execution_count": null,
   "id": "829cd4ae",
   "metadata": {},
   "outputs": [],
   "source": [
    "# Simple Interest Calculator\n",
    "\n",
    "def calculate_simple_interest(principal, rate, time):\n",
    "    interest = (principal * rate * time) / 100\n",
    "    return interest\n",
    "P = float(input(\"Enter the principal amount: \"))\n",
    "R = float(input(\"Enter the rate of interest (% per annum): \"))\n",
    "T = float(input(\"Enter the time period (in years): \"))\n",
    "\n",
    "SI = calculate_simple_interest(P, R, T)\n",
    "print(f\"\\nSimple Interest = ₹{SI:.2f}\")"
   ]
  },
  {
   "cell_type": "code",
   "execution_count": 19,
   "id": "0eb97b36",
   "metadata": {},
   "outputs": [
    {
     "name": "stdout",
     "output_type": "stream",
     "text": [
      "Defaulters\n",
      "{'s1': 45, 's4': 73}\n"
     ]
    }
   ],
   "source": [
    "#  Problem: Given a dictionary of student names and attendance %, find defaulters (<75%).\n",
    "di={\"s1\":45,\"s2\":87,\"s3\":75,\"s4\":73,\"s5\":79}\n",
    "names={name:percentage for name,percentage in di.items() if percentage<75}\n",
    "print('Defaulters')\n",
    "print(names)"
   ]
  },
  {
   "cell_type": "code",
   "execution_count": 20,
   "id": "1c67dcf8",
   "metadata": {},
   "outputs": [
    {
     "name": "stdout",
     "output_type": "stream",
     "text": [
      "Sum of digits of a given number is 10\n"
     ]
    }
   ],
   "source": [
    "\n",
    "# 9. Problem: Input: 1234 → Output: 10\n",
    "num=int(input(\"Enter number\"))\n",
    "sum=0\n",
    "while(num!=0):\n",
    "    sum+=num%10\n",
    "    num=num//10\n",
    "print(f\"Sum of digits of a given number is {sum}\")"
   ]
  },
  {
   "cell_type": "code",
   "execution_count": 22,
   "id": "eaf807f3",
   "metadata": {},
   "outputs": [
    {
     "name": "stdout",
     "output_type": "stream",
     "text": [
      "4 is not a prime number \n"
     ]
    }
   ],
   "source": [
    "# 10. Problem: Write a function to check if a number is prime.\n",
    "def check_prime(n):\n",
    "    if n==1:\n",
    "        return True\n",
    "    if n==2 or n==3:\n",
    "        return True\n",
    "    if n%2==0 or n%3==0:return False\n",
    "    for i in range(3,int(n**0.5)+1,2):\n",
    "        if n%i==0:return False\n",
    "    return True\n",
    "n=int(input(\"Enter number\"))\n",
    "if check_prime(n):\n",
    "    print(f\"{n} is a prime number\")\n",
    "else:\n",
    "    print(f\"{n} is not a prime number \")"
   ]
  },
  {
   "cell_type": "code",
   "execution_count": 23,
   "id": "3d9d9c9e",
   "metadata": {},
   "outputs": [
    {
     "name": "stdout",
     "output_type": "stream",
     "text": [
      "Largest number in list is 2342\n",
      "Smallest number in list is 0.3\n"
     ]
    }
   ],
   "source": [
    "# 11. Problem: Find smallest and largest numbers from a list.\n",
    "li=[23,423,42,2,4,41,0.3,2342]\n",
    "print(f\"Largest number in list is {max(li)}\")\n",
    "print(f\"Smallest number in list is {min(li)}\")"
   ]
  },
  {
   "cell_type": "code",
   "execution_count": 32,
   "id": "b0b8f1d6",
   "metadata": {},
   "outputs": [
    {
     "name": "stdout",
     "output_type": "stream",
     "text": [
      "Total bill is 500\n"
     ]
    }
   ],
   "source": [
    "# 12. Problem: Given items with prices in a dictionary;, calculate total bill.\n",
    "it = {\"pen\": 10, \"book\": 34, \"pencl\": 23, \"dress\": 233, \"bottel\": 200}\n",
    "bill=0\n",
    "for i,p in it.items():\n",
    "    bill+=int(p)\n",
    "print(f\"Total bill is {bill}\")"
   ]
  },
  {
   "cell_type": "code",
   "execution_count": 36,
   "id": "0296e879",
   "metadata": {},
   "outputs": [
    {
     "name": "stdout",
     "output_type": "stream",
     "text": [
      "Largest number is  43\n"
     ]
    }
   ],
   "source": [
    "# 13. Problem: Input 3 numbers, print the largest.\n",
    "a,b,c=map(int, input(\"Enter three numbers separated by space: \").split())\n",
    "ans=max(a,b,c)\n",
    "print(\"Largest number is \",ans)"
   ]
  },
  {
   "cell_type": "code",
   "execution_count": 37,
   "id": "228ceb6b",
   "metadata": {},
   "outputs": [
    {
     "name": "stdout",
     "output_type": "stream",
     "text": [
      "Counter({'h': 2, 'o': 2, 'e': 1, 'l': 1, ' ': 1, 's': 1, 'w': 1})\n"
     ]
    }
   ],
   "source": [
    "# 14. Problem: Count how many times each character appears in a string.\n",
    "from collections import Counter\n",
    "s=input(\"Enter a string\")\n",
    "print(Counter(s))\n"
   ]
  },
  {
   "cell_type": "code",
   "execution_count": 38,
   "id": "57b54e21",
   "metadata": {},
   "outputs": [
    {
     "name": "stdout",
     "output_type": "stream",
     "text": [
      "Total Electricity bill is 3420\n"
     ]
    }
   ],
   "source": [
    "# 15. Problem: Calculate electricity bill:\n",
    "# First 100 units → ₹5/unit\n",
    "# Next 100 units → ₹7/unit\n",
    "# Above 200 units → ₹10/unit\n",
    "n=int(input(\"Enter number of units\"))\n",
    "if n<=100:\n",
    "    bill=5*n\n",
    "elif n>100 and n<=200:\n",
    "    bill=7*n\n",
    "else:\n",
    "    bill=10*n\n",
    "print(f\"Total Electricity bill is {bill}\")"
   ]
  },
  {
   "cell_type": "code",
   "execution_count": 39,
   "id": "34d04eea",
   "metadata": {},
   "outputs": [
    {
     "name": "stdout",
     "output_type": "stream",
     "text": [
      "['Aneuw', 'absc', 'bhavani', 'chinuu', 'zcbsynz']\n"
     ]
    }
   ],
   "source": [
    "# 16. Problem: Sort a list of names in ascending order.\n",
    "li={\"bhavani\",\"absc\",\"chinuu\",\"Aneuw\",\"zcbsynz\"}\n",
    "print(sorted(li))"
   ]
  },
  {
   "cell_type": "code",
   "execution_count": null,
   "id": "bd684974",
   "metadata": {},
   "outputs": [],
   "source": [
    "# 17. Problem: Input: 1234 → Output: 4321\n",
    "def reverse(num):\n",
    "    rem=0\n",
    "    rev=0\n",
    "    while(num>=0):\n",
    "        rem=num%10\n",
    "        rev=rev*10+rem\n",
    "        num=num//10\n",
    "    return rev\n",
    "rev=reverse(1234)\n",
    "print(f\"reverse of a number is {rev}\")"
   ]
  },
  {
   "cell_type": "code",
   "execution_count": 44,
   "id": "4e5e5e80",
   "metadata": {},
   "outputs": [
    {
     "name": "stdout",
     "output_type": "stream",
     "text": [
      "Count of positive numbers 4\n",
      "Count of negative numbers3\n",
      "Count of zero 2\n"
     ]
    }
   ],
   "source": [
    "# 18. Problem: Given a list, count positive, negative, and zero numbers.\n",
    "li=[12,-2,31,0,23,-12,3,-2,0]\n",
    "pos=zero=neg=0\n",
    "for n in li:\n",
    "    if n==0:zero+=1\n",
    "    elif n>0:pos+=1\n",
    "    else:neg+=1\n",
    "print(f\"Count of positive numbers {pos}\")\n",
    "print(f\"Count of negative numbers{neg}\")\n",
    "print(f\"Count of zero {zero}\")\n"
   ]
  },
  {
   "cell_type": "code",
   "execution_count": 49,
   "id": "f35c69b3",
   "metadata": {},
   "outputs": [
    {
     "name": "stdout",
     "output_type": "stream",
     "text": [
      "Incorect PIN!\n",
      "You have 2 left\n",
      "Successfully Accessed!!!!\n"
     ]
    }
   ],
   "source": [
    "# 19. Problem: User has 3 attempts to enter correct PIN.\n",
    "valid=\"1234\"\n",
    "attempts=3\n",
    "while attempts>0:\n",
    "    pin=input(\"Enter pin\")\n",
    "    if valid==pin:\n",
    "        print(\"Successfully Accessed!!!!\")\n",
    "        break\n",
    "    else:\n",
    "        attempts-=1\n",
    "        print(\"Incorect PIN!\")\n",
    "        print(f\"You have {attempts} left\")\n",
    "if attempts>3:\n",
    "    print(\"Access Denied\")"
   ]
  },
  {
   "cell_type": "code",
   "execution_count": 51,
   "id": "e8208fea",
   "metadata": {},
   "outputs": [
    {
     "name": "stdout",
     "output_type": "stream",
     "text": [
      "Cant divide by zero\n"
     ]
    }
   ],
   "source": [
    "# 20. Problem: Write a program that asks for two numbers and divides them. Handle division by zero.\n",
    "try:\n",
    "    a=int(input(\"Enter number\"))\n",
    "    b=int(input(\"Enter number\"))\n",
    "    print(f\"Division of numbers is{a/b}\")\n",
    "except:\n",
    "    print(\"Cant divide by zero\")"
   ]
  },
  {
   "cell_type": "code",
   "execution_count": 52,
   "id": "cf92e272",
   "metadata": {},
   "outputs": [
    {
     "name": "stdout",
     "output_type": "stream",
     "text": [
      "Division of numbers is1.0\n"
     ]
    }
   ],
   "source": [
    "# 21. Problem: Write a program that handles both ValueError (invalid input) and ZeroDivisionError.\n",
    "a=int(input(\"Enter number\"))\n",
    "b=int(input(\"Enter number\"))\n",
    "try:\n",
    "    print(f\"Division of numbers is{a/b}\")\n",
    "except ValueError:\n",
    "    print(\"Invalid input\")\n",
    "except ZeroDivisionError:\n",
    "    print(\"Cant divide by zero\")"
   ]
  },
  {
   "cell_type": "code",
   "execution_count": 53,
   "id": "0936bcd3",
   "metadata": {},
   "outputs": [
    {
     "name": "stdout",
     "output_type": "stream",
     "text": [
      "Withdrawal successful. New balance is: 877\n"
     ]
    }
   ],
   "source": [
    "# 22. Problem: If withdrawal amount is greater than balance, raise an exception.\n",
    "def withdraw(balance, amount):\n",
    "    if amount > balance:\n",
    "        raise Exception(\"Insufficient funds\")\n",
    "    balance -= amount\n",
    "    return balance\n",
    "amount=int(input(\"Enter withdrawal amount\"))\n",
    "balance=1000\n",
    "try:\n",
    "    new_balance = withdraw(balance, amount)\n",
    "    print(f\"Withdrawal successful. New balance is: {new_balance}\")\n",
    "except Exception as e:\n",
    "    print(e)"
   ]
  },
  {
   "cell_type": "code",
   "execution_count": 56,
   "id": "0e2aff71",
   "metadata": {},
   "outputs": [
    {
     "name": "stdout",
     "output_type": "stream",
     "text": [
      "Invalid input: Units cannot be negative.\n",
      "Bill processing finished.\n"
     ]
    }
   ],
   "source": [
    "def calculate_bill(units):\n",
    "    try:\n",
    "        units = int(units)\n",
    "        if units < 0:\n",
    "            print(\"Invalid input: Units cannot be negative.\")\n",
    "        else:\n",
    "            total = 0\n",
    "            if units <= 100:\n",
    "                total = units * 5\n",
    "            elif units <= 200:\n",
    "                total = (100 * 5) + ((units - 100) * 7)\n",
    "            else:\n",
    "                total = (100 * 5) + (100 * 7) + ((units - 200) * 10)\n",
    "            print(f\"Total price: ₹{total}\")\n",
    "    except ValueError:\n",
    "        print(\"Invalid input: Please enter a valid number.\")\n",
    "    finally:\n",
    "        print(\"Bill processing finished.\")\n",
    "\n",
    "calculate_bill(input(\"Enter number of units: \"))"
   ]
  }
 ],
 "metadata": {
  "kernelspec": {
   "display_name": "Python 3",
   "language": "python",
   "name": "python3"
  },
  "language_info": {
   "codemirror_mode": {
    "name": "ipython",
    "version": 3
   },
   "file_extension": ".py",
   "mimetype": "text/x-python",
   "name": "python",
   "nbconvert_exporter": "python",
   "pygments_lexer": "ipython3",
   "version": "3.11.13"
  }
 },
 "nbformat": 4,
 "nbformat_minor": 5
}
