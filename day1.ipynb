{
 "cells": [
  {
   "cell_type": "code",
   "execution_count": null,
   "id": "686a2314",
   "metadata": {},
   "outputs": [
    {
     "data": {
      "text/plain": [
       "[2, 3, 5]"
      ]
     },
     "execution_count": 3,
     "metadata": {},
     "output_type": "execute_result"
    }
   ],
   "source": [
    "#  Prime Number Finder\n",
    " \n",
    "#    * Function that returns all prime numbers up to n.\n",
    "\n",
    "\n",
    "def prime_numbers(n:int)->list:\n",
    "    if n<2:\n",
    "        return []\n",
    "    is_prime=[True]*(n+1)\n",
    "    is_prime[0]=is_prime[1]=False\n",
    "    for i in range(2,int(n**0.5)+1):\n",
    "        if is_prime[i]:\n",
    "            for j in range(i*i,n+1,i):\n",
    "                is_prime[j]=False\n",
    "    return [i for i,prime in enumerate(is_prime) if prime]\n",
    "n=int(input(\"Enter number\"))\n",
    "prime_numbers(n)\n"
   ]
  },
  {
   "cell_type": "code",
   "execution_count": 5,
   "id": "eb20f47e",
   "metadata": {},
   "outputs": [
    {
     "name": "stdout",
     "output_type": "stream",
     "text": [
      "True\n"
     ]
    }
   ],
   "source": [
    "def is_palindrone(s):\n",
    "    cleaned=''.join(c.lower() for c in s if c.isalnum())\n",
    "    return cleaned==cleaned[::-1]\n",
    "s=input(\"Enter String\")\n",
    "print(\"True\" if is_palindrone(s) else \"False\")"
   ]
  },
  {
   "cell_type": "code",
   "execution_count": null,
   "id": "1f0b9939",
   "metadata": {},
   "outputs": [
    {
     "name": "stdout",
     "output_type": "stream",
     "text": [
      "True\n"
     ]
    }
   ],
   "source": [
    "#  Anagram Checker\n",
    " \n",
    "#    * Function checks if two words are anagrams.\n",
    "s=input(\"Enter first String\")\n",
    "b=input(\"Enter second string\")\n",
    "s1 = sorted(s.replace(\" \", \"\").lower())\n",
    "b1 = sorted(b.replace(\" \", \"\").lower())\n",
    "\n",
    "\n",
    "print(b1==s1)"
   ]
  },
  {
   "cell_type": "code",
   "execution_count": 13,
   "id": "9663e9ac",
   "metadata": {},
   "outputs": [
    {
     "name": "stdout",
     "output_type": "stream",
     "text": [
      "Vowel count:2 consonent count is 3\n"
     ]
    }
   ],
   "source": [
    "# Count Vowels & Consonants\n",
    " \n",
    "#    * Return count of vowels & consonants.\n",
    "s=input(\"Enter String\")\n",
    "vc=0\n",
    "cc=0\n",
    "s=s.lower()\n",
    "for i in s:\n",
    "    if i.isalpha():\n",
    "        if i in \"aeiou\":\n",
    "            vc+=1\n",
    "        else:\n",
    "            cc+=1\n",
    "print(f\"Vowel count:{vc} consonent count is {cc}\")\n"
   ]
  },
  {
   "cell_type": "code",
   "execution_count": 14,
   "id": "6b8f7c37",
   "metadata": {},
   "outputs": [
    {
     "name": "stdout",
     "output_type": "stream",
     "text": [
      "amzaxin\n"
     ]
    }
   ],
   "source": [
    "# . Longest Word Finder\n",
    " \n",
    "# * Return longest word in a sentence.\n",
    "# * Input: \"Python is amazing\"\n",
    "# * Output: \"amazing\"\n",
    "\n",
    "s=input(\"Enter sentence\")\n",
    "words=s.split()\n",
    "print(max(words,key=len))"
   ]
  },
  {
   "cell_type": "code",
   "execution_count": null,
   "id": "4f4a91da",
   "metadata": {},
   "outputs": [
    {
     "name": "stdout",
     "output_type": "stream",
     "text": [
      "LeK?)d\n"
     ]
    }
   ],
   "source": [
    "# # Random Password Generator (random, string)\n",
    " \n",
    "# # * Input: length=6\n",
    "# # * Output: \"aB9@xQ\"\n",
    "# import string\n",
    "# import random\n",
    "# n=int(input(\"Enter the length\"))\n",
    "# all=string.digits+string.punctuation+string.ascii_letters\n",
    "# print(''.join(random.choice(all) for _ in range(n)))"
   ]
  },
  {
   "cell_type": "code",
   "execution_count": null,
   "id": "17b1cdee",
   "metadata": {},
   "outputs": [
    {
     "name": "stdout",
     "output_type": "stream",
     "text": [
      "2.23606797749979\n"
     ]
    }
   ],
   "source": [
    "#  Simple Calculator with math\n",
    " \n",
    "# * Perform sqrt, factorial, sin, cos.\n",
    "# * Input: sqrt(25)\n",
    "# * Output: 5.0\n",
    "import math\n",
    "s=input(\"Enter function\")\n",
    "\n",
    "n=int(input(\"Enter number\"))\n",
    "match s:\n",
    "    case \"sqrt\":\n",
    "        print(int(math.sqrt(n)))\n",
    "    case \"factorial\":\n",
    "        print(math.factorial(n))\n",
    "    case \"sin\":\n",
    "        print(math.sin(n))\n",
    "    case \"cos\":\n",
    "        print(math.cos(n))\n",
    "    \n",
    "\n"
   ]
  },
  {
   "cell_type": "code",
   "execution_count": 19,
   "id": "1cd08920",
   "metadata": {},
   "outputs": [
    {
     "name": "stdout",
     "output_type": "stream",
     "text": [
      "{'dog': 2, 'cat': 1}\n"
     ]
    }
   ],
   "source": [
    "from collections import Counter\n",
    "s=input(\"Enter string\").split()\n",
    "print(dict(Counter(s)))\n"
   ]
  },
  {
   "cell_type": "code",
   "execution_count": 22,
   "id": "b45e4926",
   "metadata": {},
   "outputs": [
    {
     "data": {
      "text/plain": [
       "'Weater: windy,Temp:33 C'"
      ]
     },
     "execution_count": 22,
     "metadata": {},
     "output_type": "execute_result"
    }
   ],
   "source": [
    "# . Weather Simulator (`random`)\n",
    " \n",
    "# * Input: None\n",
    "# * Output: `\"Weather: Sunny, Temp: 32°C\"`\n",
    "import random\n",
    "def weater_simulator():\n",
    "    con=[\"sunny\",\"rainy\",\"cloudy\",\"stromy\",\"windy\"]\n",
    "    temp=random.randint(15,40)\n",
    "    weat=random.choice(con)\n",
    "    return (f\"Weater: {weat },Temp:{temp} C\")\n",
    "weater_simulator()"
   ]
  },
  {
   "cell_type": "code",
   "execution_count": 20,
   "id": "0104e2d5",
   "metadata": {},
   "outputs": [
    {
     "name": "stdout",
     "output_type": "stream",
     "text": [
      "5\n",
      "4\n",
      "3\n",
      "2\n",
      "1\n",
      "Time's up!\n"
     ]
    }
   ],
   "source": [
    "# Timer Program (`time`)\n",
    " \n",
    "# * Input: `countdown(5)`\n",
    "# * Output:\n",
    " \n",
    "#   ```\n",
    "#   5  \n",
    "#   4  \n",
    "#   3  \n",
    "#   2  \n",
    "#   1  \n",
    "#   Time’s up!\n",
    "def countdown(n):\n",
    "    while n>0:\n",
    "        print(n)\n",
    "        n=n-1\n",
    "    print(\"Time's up!\")\n",
    "countdown(5)\n",
    "\n"
   ]
  },
  {
   "cell_type": "code",
   "execution_count": 23,
   "id": "fcd20a42",
   "metadata": {},
   "outputs": [
    {
     "name": "stdout",
     "output_type": "stream",
     "text": [
      "120\n"
     ]
    }
   ],
   "source": [
    "# 1. Bank Account Class\n",
    " \n",
    "# Attributes:\n",
    " \n",
    "# * `balance` → stores the current money in the account\n",
    "# * `owner` (optional) → name of account holder\n",
    " \n",
    "# Methods:\n",
    " \n",
    "# * `deposit(amount)` → adds money to balance\n",
    "# * `withdraw(amount)` → subtracts money if enough funds\n",
    "# * `get_balance()` → returns balance\n",
    "class BankAccount:\n",
    "    def __init__(self,balance=0.0,owner=\"unknown\"):\n",
    "        self.balance=balance\n",
    "        self.owner=owner\n",
    "    def deposit(self,amount):\n",
    "         \n",
    "            self.balance+=amount\n",
    "    def withdraw(self,amount):\n",
    "         if amount<=self.balance:\n",
    "              self.balance-=amount\n",
    "    def get_balance(self):\n",
    "         return self.balance\n",
    "acc=BankAccount(100)\n",
    "acc.deposit(50)\n",
    "acc.withdraw(30)\n",
    "print(acc.get_balance())\n"
   ]
  },
  {
   "cell_type": "code",
   "execution_count": 24,
   "id": "2449d3b3",
   "metadata": {},
   "outputs": [
    {
     "name": "stdout",
     "output_type": "stream",
     "text": [
      "85.0\n",
      "95\n"
     ]
    }
   ],
   "source": [
    "# Student Class with Average\n",
    " \n",
    "# Attributes:\n",
    " \n",
    "# * `name` → student name\n",
    "# * `marks` → list of student marks `[90, 80, 85]`\n",
    " \n",
    "# Methods:\n",
    " \n",
    "# * `get_average()` → returns average marks\n",
    "# * `add_mark(mark)` → add new score\n",
    "# * `get_highest()` → return highest mark\n",
    "# * `get_lowest()` → return lowest mark\n",
    "class student:\n",
    "    def __init__(self,name,marks=None):\n",
    "        self.name=name\n",
    "        self.marks=marks if marks is not None else []\n",
    "    def get_average(self):\n",
    "        return sum(self.marks)/len(self.marks) if self.marks is not None else 0\n",
    "    def add_marks(self,num):\n",
    "        self.marks.append(num)\n",
    "    def get_highest(self):\n",
    "        return max(self.marks) if self.marks is not None else 0\n",
    "    def get_lowest(self):\n",
    "        return min(self.marks) if self.marks is not None else 0\n",
    "s=student(\"tom\",[90,80,85])\n",
    "print(s.get_average())\n",
    "s.add_marks(95)\n",
    "print(s.get_highest())"
   ]
  },
  {
   "cell_type": "code",
   "execution_count": 25,
   "id": "27c90820",
   "metadata": {},
   "outputs": [
    {
     "name": "stdout",
     "output_type": "stream",
     "text": [
      "10000.0\n"
     ]
    }
   ],
   "source": [
    "# Employee Bonus System\n",
    " \n",
    "# Attributes:\n",
    " \n",
    "# * `name` → employee name\n",
    "# * `salary` → base salary\n",
    "# * `role` → role of employee (e.g., Manager, Developer, Intern)\n",
    "# Methods:\n",
    "# * `bonus()` → calculates bonus depending on role: \n",
    "#   * Manager → 20% of salary\n",
    "#   * Developer → 10% of salary\n",
    "#   * Intern → 5% of salary\n",
    "class Employee:\n",
    "    def __init__(self,name,salary):\n",
    "        self.name=name\n",
    "        self.salary=salary\n",
    "    def bouns(self):\n",
    "        return 0\n",
    "class Manager(Employee):\n",
    "    def bouns(self):\n",
    "        return  self.salary*0.20\n",
    "class Developer(Employee):\n",
    "    def bouns(self):\n",
    "        return self.salary*0.1\n",
    "class Intern(Employee):\n",
    "    def bouns(self):\n",
    "        return self.salary*0.05 \n",
    "m=Manager(\"Alice\",50000)\n",
    "print(m.bouns())   "
   ]
  },
  {
   "cell_type": "code",
   "execution_count": 31,
   "id": "5e132dc9",
   "metadata": {},
   "outputs": [
    {
     "name": "stdout",
     "output_type": "stream",
     "text": [
      "153.94\n"
     ]
    }
   ],
   "source": [
    "# . Shape Area Calculator\n",
    " \n",
    "# Base Class (Shape):\n",
    " \n",
    "# *Attribute: `name`\n",
    "# *Method: `area()` → to be overridden by subclasses\n",
    " \n",
    "# Subclasses:\n",
    " \n",
    "# * `Circle(radius)` → area = π × r²\n",
    "# * `Rectangle(width, height)` → area = width × height\n",
    "import math\n",
    "\n",
    "class Shape:\n",
    "    def __init__(self, name):\n",
    "        self.name = name\n",
    "    def area(self):\n",
    "        return 0  \n",
    "class Circle(Shape):\n",
    "    def __init__(self, radius):\n",
    "        super().__init__(\"Circle\")\n",
    "        self.radius = radius\n",
    "\n",
    "    def area(self):\n",
    "        return math.pi * self.radius ** 2\n",
    "\n",
    "class Rectangle(Shape):\n",
    "    def __init__(self, width, height):\n",
    "        super().__init__(\"Rectangle\")\n",
    "        self.width = width\n",
    "        self.height = height\n",
    "\n",
    "    def area(self):\n",
    "        return self.width * self.height\n",
    "c=Circle(7)\n",
    "print(round(c.area(),2))"
   ]
  },
  {
   "cell_type": "code",
   "execution_count": 34,
   "id": "21795b55",
   "metadata": {},
   "outputs": [
    {
     "name": "stdout",
     "output_type": "stream",
     "text": [
      "500\n",
      "Shirt-500\n"
     ]
    }
   ],
   "source": [
    "# E-commerce Order Class\n",
    " \n",
    "# Attributes:\n",
    " \n",
    "# * `items` → dictionary of items `{name: price}`\n",
    " \n",
    "# Methods:\n",
    " \n",
    "# * `add(item, price)` → adds an item to order\n",
    "# * `remove(item)` → removes item\n",
    "# * `calculate_total()` → returns total price of all items\n",
    "# * `show_items()` → lists all items in order\n",
    "class Order:\n",
    "    def __init__(self):\n",
    "        self.items={}\n",
    "    def add(self,item,price):\n",
    "        self.items[item]=price\n",
    "    def remove (self,item):\n",
    "        if item in self.items:\n",
    "            del self.items[item]\n",
    "    def calculate_total(self):\n",
    "        return sum(self.items.values())\n",
    "    def show_items(self):\n",
    "        for item,price  in self.items.items():\n",
    "            print (f\"{item}-{price}\")\n",
    "o=Order()\n",
    "o.add(\"Shirt\",500)\n",
    "o.add(\"Tshirt\",400)\n",
    "o.remove(\"Tshirt\")\n",
    "print(o.calculate_total())\n",
    "o.show_items()\n"
   ]
  },
  {
   "cell_type": "code",
   "execution_count": 1,
   "id": "7cb9e27b",
   "metadata": {},
   "outputs": [
    {
     "data": {
      "text/plain": [
       "[0, 1, 1, 2, 3]"
      ]
     },
     "execution_count": 1,
     "metadata": {},
     "output_type": "execute_result"
    }
   ],
   "source": [
    "def fib(n):\n",
    "    seq=[]\n",
    "    a,b=0,1\n",
    "    for _ in range(n):\n",
    "        seq.append(a)\n",
    "        a,b=b,a+b\n",
    "    return seq\n",
    "fib(5)"
   ]
  },
  {
   "cell_type": "code",
   "execution_count": 2,
   "id": "7f8892d2",
   "metadata": {},
   "outputs": [
    {
     "data": {
      "text/plain": [
       "120"
      ]
     },
     "execution_count": 2,
     "metadata": {},
     "output_type": "execute_result"
    }
   ],
   "source": [
    "def factorial(n):\n",
    "    if n<=0 :\n",
    "        return 1\n",
    "    return n*factorial(n-1)\n",
    "factorial(5)"
   ]
  },
  {
   "cell_type": "code",
   "execution_count": 3,
   "id": "ff87d9cc",
   "metadata": {},
   "outputs": [
    {
     "name": "stdout",
     "output_type": "stream",
     "text": [
      "{'apple': 2, 'banana': 1, 'orange': 1}\n"
     ]
    }
   ],
   "source": [
    "from collections import Counter\n",
    "def unique(s):\n",
    "    w=s.split()\n",
    "    return dict(Counter(w))\n",
    "s=input()\n",
    "print(unique(s))\n"
   ]
  },
  {
   "cell_type": "code",
   "execution_count": 4,
   "id": "5e0b8b48",
   "metadata": {},
   "outputs": [
    {
     "data": {
      "text/plain": [
       "'Grade: A'"
      ]
     },
     "execution_count": 4,
     "metadata": {},
     "output_type": "execute_result"
    }
   ],
   "source": [
    "def calculate_grade(marks):\n",
    "    avg = sum(marks) / len(marks)\n",
    "    if avg >= 90:\n",
    "        return \"Grade: A+\"\n",
    "    elif avg >= 80:\n",
    "        return \"Grade: A\"\n",
    "    elif avg >= 70:\n",
    "        return \"Grade: B\"\n",
    "    elif avg >= 60:\n",
    "        return \"Grade: C\"\n",
    "    else:\n",
    "        return \"Grade: F\"\n",
    "calculate_grade([90,85,78])"
   ]
  },
  {
   "cell_type": "code",
   "execution_count": 5,
   "id": "50afe150",
   "metadata": {},
   "outputs": [
    {
     "data": {
      "text/plain": [
       "10"
      ]
     },
     "execution_count": 5,
     "metadata": {},
     "output_type": "execute_result"
    }
   ],
   "source": [
    "def second_largest(nums):\n",
    "    unique = list(set(nums))\n",
    "    unique.sort()\n",
    "    return unique[-2] if len(unique) >= 2 else None\n",
    "second_largest([10,6,20,8])"
   ]
  },
  {
   "cell_type": "code",
   "execution_count": 6,
   "id": "d59b3a99",
   "metadata": {},
   "outputs": [],
   "source": [
    "import os\n",
    "\n",
    "def count_files():\n",
    "    txt = py = 0\n",
    "    for file in os.listdir():\n",
    "        if file.endswith(\".txt\"):\n",
    "            txt += 1\n",
    "        elif file.endswith(\".py\"):\n",
    "            py += 1\n",
    "    print(f\"Text files: {txt}\")\n",
    "    print(f\"Python files: {py}\")\n",
    "    count_files()"
   ]
  },
  {
   "cell_type": "code",
   "execution_count": 8,
   "id": "ea66ca8e",
   "metadata": {},
   "outputs": [
    {
     "name": "stdout",
     "output_type": "stream",
     "text": [
      "Mean = 87.86\n",
      "Median = 90\n",
      "Variance = 73.81\n"
     ]
    }
   ],
   "source": [
    "import statistics\n",
    "\n",
    "def analyze_scores(scores):\n",
    "    print(\"Mean =\", round(statistics.mean(scores), 2))\n",
    "    print(\"Median =\", statistics.median(scores))\n",
    "    print(\"Variance =\", round(statistics.variance(scores), 2))\n",
    "analyze_scores([75,80,90,100,85,90,95])"
   ]
  },
  {
   "cell_type": "code",
   "execution_count": 9,
   "id": "150b3afc",
   "metadata": {},
   "outputs": [
    {
     "data": {
      "text/plain": [
       "'Roots are: 2.0 and 1.0'"
      ]
     },
     "execution_count": 9,
     "metadata": {},
     "output_type": "execute_result"
    }
   ],
   "source": [
    "import math\n",
    "\n",
    "def solve_quadratic(a, b, c):\n",
    "    d = b**2 - 4*a*c\n",
    "    if d < 0:\n",
    "        return \"No real roots\"\n",
    "    root1 = (-b + math.sqrt(d)) / (2*a)\n",
    "    root2 = (-b - math.sqrt(d)) / (2*a)\n",
    "    return f\"Roots are: {round(root1, 2)} and {round(root2, 2)}\"\n",
    "solve_quadratic(1,-3,2)"
   ]
  },
  {
   "cell_type": "code",
   "execution_count": 11,
   "id": "3d3a46e8",
   "metadata": {},
   "outputs": [
    {
     "name": "stdout",
     "output_type": "stream",
     "text": [
      "You chose Rock, Computer chose Paper\n",
      "You Lose!\n"
     ]
    }
   ],
   "source": [
    "import random\n",
    "\n",
    "def play_rps(user_choice):\n",
    "    options = [\"Rock\", \"Paper\", \"Scissors\"]\n",
    "    comp = random.choice(options)\n",
    "    print(f\"You chose {user_choice}, Computer chose {comp}\")\n",
    "    if user_choice == comp:\n",
    "        print(\"It's a Tie!\")\n",
    "    elif (user_choice == \"Rock\" and comp == \"Scissors\") or \\\n",
    "         (user_choice == \"Paper\" and comp == \"Rock\") or \\\n",
    "         (user_choice == \"Scissors\" and comp == \"Paper\"):\n",
    "        print(\"You Win!\")\n",
    "    else:\n",
    "        print(\"You Lose!\")\n",
    "user=input()\n",
    "play_rps(user)\n"
   ]
  },
  {
   "cell_type": "code",
   "execution_count": 12,
   "id": "5e2ee1cf",
   "metadata": {},
   "outputs": [],
   "source": [
    "import sys\n",
    "\n",
    "def sum_args():\n",
    "    args = sys.argv[1:]\n",
    "    nums = list(map(int, args))\n",
    "    print(\"Sum =\", sum(nums))"
   ]
  },
  {
   "cell_type": "code",
   "execution_count": 14,
   "id": "fe127a3e",
   "metadata": {},
   "outputs": [
    {
     "name": "stdout",
     "output_type": "stream",
     "text": [
      "You borrowed python 101\n",
      "You returned python 101\n",
      "Available books: {'python 101': 3, 'Data Science': 2}\n"
     ]
    }
   ],
   "source": [
    "class Library:\n",
    "    def __init__(self, books):\n",
    "        self.books = books\n",
    "\n",
    "    def borrow(self, title):\n",
    "        if self.books.get(title, 0) > 0:\n",
    "            self.books[title] -= 1\n",
    "            return f\"You borrowed {title}\"\n",
    "        return \"Book not available\"\n",
    "\n",
    "    def return_book(self, title):\n",
    "        self.books[title] = self.books.get(title, 0) + 1\n",
    "        return f\"You returned {title}\"\n",
    "\n",
    "    def show_books(self):\n",
    "        print(\"Available books:\", self.books)\n",
    "lib=Library({\"python 101\":3,\"Data Science\":2})\n",
    "print(lib.borrow(\"python 101\"))\n",
    "print(lib.return_book(\"python 101\"))\n",
    "lib.show_books()"
   ]
  },
  {
   "cell_type": "code",
   "execution_count": 16,
   "id": "01272d84",
   "metadata": {},
   "outputs": [
    {
     "name": "stdout",
     "output_type": "stream",
     "text": [
      "Access Granted\n",
      "Deposited 200\n",
      "Withdrew 100\n",
      "Balance: 600\n"
     ]
    }
   ],
   "source": [
    "class ATM:\n",
    "    def __init__(self, pin, balance):\n",
    "        self.pin = pin\n",
    "        self.balance = balance\n",
    "        self.is_authenticated = False\n",
    "\n",
    "    def login(self, entered_pin):\n",
    "        self.is_authenticated = (entered_pin == self.pin)\n",
    "        return \"Access Granted\" if self.is_authenticated else \"Access Denied\"\n",
    "\n",
    "    def check_balance(self):\n",
    "        return f\"Balance: {self.balance}\" if self.is_authenticated else \"Login required\"\n",
    "\n",
    "    def deposit(self, amount):\n",
    "        if self.is_authenticated:\n",
    "            self.balance += amount\n",
    "            return f\"Deposited {amount}\"\n",
    "        return \"Login required\"\n",
    "\n",
    "    def withdraw(self, amount):\n",
    "        if self.is_authenticated:\n",
    "            if amount <= self.balance:\n",
    "                self.balance -= amount\n",
    "                return f\"Withdrew {amount}\"\n",
    "            return \"Insufficient funds\"\n",
    "        return \"Login required\"\n",
    "atm=ATM(1234,500)\n",
    "print(atm.login(1234))\n",
    "print(atm.deposit(200))\n",
    "print(atm.withdraw(100))\n",
    "print(atm.check_balance())\n"
   ]
  },
  {
   "cell_type": "code",
   "execution_count": 17,
   "id": "430de863",
   "metadata": {},
   "outputs": [
    {
     "name": "stdout",
     "output_type": "stream",
     "text": [
      "Dr.Smith is teaching Python\n",
      "abs enrolled in Python\n",
      "Dr.Smith assigned: p1\n",
      "abs submitted: p1\n"
     ]
    }
   ],
   "source": [
    "class Professor:\n",
    "    def __init__(self, name, subject):\n",
    "        self.name = name\n",
    "        self.subject = subject\n",
    "\n",
    "    def teach(self, course):\n",
    "        return f\"{self.name} is teaching {course}\"\n",
    "\n",
    "    def give_assignment(self, task):\n",
    "        return f\"{self.name} assigned: {task}\"\n",
    "\n",
    "class Student:\n",
    "    def __init__(self, name):\n",
    "        self.name = name\n",
    "        self.courses = []\n",
    "        self.assignments = []\n",
    "\n",
    "    def enroll(self, course):\n",
    "        self.courses.append(course)\n",
    "        return f\"{self.name} enrolled in {course}\"\n",
    "\n",
    "    def submit_assignment(self, task):\n",
    "        self.assignments.append(task)\n",
    "        return f\"{self.name} submitted: {task}\"\n",
    "prof=Professor(\"Dr.Smith\",\"Computer Science\")\n",
    "stud=Student(\"abs\")\n",
    "print(prof.teach(\"Python\"))\n",
    "print(stud.enroll(\"Python\"))\n",
    "print(prof.give_assignment(\"p1\"))\n",
    "print(stud.submit_assignment(\"p1\"))"
   ]
  },
  {
   "cell_type": "code",
   "execution_count": 18,
   "id": "5ed57b90",
   "metadata": {},
   "outputs": [
    {
     "name": "stdout",
     "output_type": "stream",
     "text": [
      "Booked 2 tickets for Avatar\n",
      "Cancelled 1 ticket for Avatar\n",
      "Movies: {'Avatar': 9, 'Batman': 15}\n"
     ]
    }
   ],
   "source": [
    "class Cinema:\n",
    "    def __init__(self, movies):\n",
    "        self.movies = movies\n",
    "\n",
    "    def book(self, movie, seats):\n",
    "        if self.movies.get(movie, 0) >= seats:\n",
    "            self.movies[movie] -= seats\n",
    "            return f\"Booked {seats} tickets for {movie}\"\n",
    "        return \"Not enough seats\"\n",
    "\n",
    "    def cancel(self, movie, seats):\n",
    "        self.movies[movie] = self.movies.get(movie, 0) + seats\n",
    "        return f\"Cancelled {seats} ticket for {movie}\"\n",
    "\n",
    "    def show_movies(self):\n",
    "        print(\"Movies:\", self.movies)\n",
    "cinema=Cinema({\"Avatar\":10,\"Batman\":15})\n",
    "print(cinema.book(\"Avatar\",2))\n",
    "print(cinema.cancel(\"Avatar\",1))\n",
    "cinema.show_movies()"
   ]
  },
  {
   "cell_type": "code",
   "execution_count": 20,
   "id": "78cac3a2",
   "metadata": {},
   "outputs": [
    {
     "name": "stdout",
     "output_type": "stream",
     "text": [
      "Burger added\n",
      "Pizza added\n",
      "pizza not found\n",
      "Burger removed\n",
      "Menu: {'Pizza': 100}\n"
     ]
    }
   ],
   "source": [
    "class Menu:\n",
    "    def __init__(self):\n",
    "        self.items = {}\n",
    "\n",
    "    def add_item(self, name, price):\n",
    "        self.items[name] = price\n",
    "        return f\"{name} added\"\n",
    "\n",
    "    def remove_item(self, name):\n",
    "        if name in self.items:\n",
    "            del self.items[name]\n",
    "            return f\"{name} removed\"\n",
    "        return f\"{name} not found\"\n",
    "\n",
    "    def update_price(self, name, new_price):\n",
    "        if name in self.items:\n",
    "            self.items[name] = new_price\n",
    "            return f\"{name} price updated to {new_price}\"\n",
    "        return f\"{name} not found\"\n",
    "\n",
    "    def show_menu(self):\n",
    "        print(\"Menu:\", self.items)\n",
    "m=Menu()\n",
    "print(m.add_item(\"Burger\",100))\n",
    "print(m.add_item(\"Pizza\",100))\n",
    "print(m.update_price(\"pizza\",300))\n",
    "print(m.remove_item(\"Burger\"))\n",
    "m.show_menu()"
   ]
  }
 ],
 "metadata": {
  "kernelspec": {
   "display_name": "Python 3",
   "language": "python",
   "name": "python3"
  },
  "language_info": {
   "codemirror_mode": {
    "name": "ipython",
    "version": 3
   },
   "file_extension": ".py",
   "mimetype": "text/x-python",
   "name": "python",
   "nbconvert_exporter": "python",
   "pygments_lexer": "ipython3",
   "version": "3.11.13"
  }
 },
 "nbformat": 4,
 "nbformat_minor": 5
}
